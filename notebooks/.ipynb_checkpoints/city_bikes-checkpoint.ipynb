{
 "cells": [
  {
   "cell_type": "markdown",
   "metadata": {},
   "source": [
    "# CityBikes"
   ]
  },
  {
   "cell_type": "markdown",
   "metadata": {},
   "source": [
    "### Send a request to CityBikes for the city of your choice"
   ]
  },
  {
   "cell_type": "code",
   "execution_count": 1,
   "metadata": {
    "tags": []
   },
   "outputs": [],
   "source": [
    "import pandas as pd\n",
    "import json\n",
    "import requests # This library will be used to call the APIs"
   ]
  },
  {
   "cell_type": "code",
   "execution_count": 2,
   "metadata": {
    "tags": []
   },
   "outputs": [],
   "source": [
    "# URL of API endpoint\n",
    "city_bike_networks = \"https://api.citybik.es/v2/networks/\"\n",
    "\n",
    "# Returns all available cities covered by CityBikes API\n",
    "response_networks = requests.get(city_bike_networks)"
   ]
  },
  {
   "cell_type": "code",
   "execution_count": 3,
   "metadata": {
    "tags": []
   },
   "outputs": [
    {
     "name": "stdout",
     "output_type": "stream",
     "text": [
      "Request successful. Status code: 200\n"
     ]
    }
   ],
   "source": [
    "# Filter for a specific city, in this case we will select 'Montréal, QC, CA: Bixi'\n",
    "network_id = \"bixi-montreal\"\n",
    "city_bike_MTL = city_bike_networks + network_id\n",
    "\n",
    "# Returns all available bike stations in 'Montréal, QC, CA' using try/excepts considered relevant\n",
    "try:\n",
    "    response_MTL = requests.get(city_bike_MTL)\n",
    "    # If the request is successful\n",
    "    print(\"Request successful. Status code:\", response_MTL.status_code)\n",
    "    \n",
    "# HTTP error for a status codes like 404 (page not found)\n",
    "except requests.exceptions.HTTPError as http_err:\n",
    "    print(\"HTTP error occurred. Error:\", str(http_err))\n",
    "\n",
    "# Server takes too long to respond\n",
    "except requests.exceptions.Timeout as timeout_err:\n",
    "    print(\"Request timed out. Error:\", str(timeout_err))\n",
    "        \n",
    "except Exception as exc:\n",
    "    print(\"Request failed. Error:\", str(exc))"
   ]
  },
  {
   "cell_type": "code",
   "execution_count": 4,
   "metadata": {
    "tags": []
   },
   "outputs": [
    {
     "name": "stdout",
     "output_type": "stream",
     "text": [
      "{\n",
      "   \"network\": {\n",
      "      \"company\": [\n",
      "         \"Motivate International, Inc.\",\n",
      "         \"PBSC Urban Solutions\",\n",
      "         \"BIXI Montr\\u00e9al\"\n",
      "      ],\n",
      "      \"ebikes\": true,\n",
      "      \"gbfs_href\": \"https://gbfs.velobixi.com/gbfs/gbfs.json\",\n",
      "      \"href\": \"/v2/networks/bixi-montreal\",\n",
      "      \"id\": \"bixi-montreal\",\n",
      "      \"location\": {\n",
      "         \"city\": \"Montr\\u00e9al, QC\",\n",
      "         \"country\": \"CA\",\n",
      "         \"latitude\": 45.508693,\n",
      "         \"longitude\": -73.553928\n",
      "      },\n",
      "      \"name\": \"Bixi\",\n",
      "      \"stations\": [\n",
      "         {\n",
      "            \"empty_slots\": 6,\n",
      "            \"extra\": {\n",
      "               \"ebikes\": 0,\n",
      "               \"has_ebikes\": true,\n",
      "               \"last_updated\": 1695527911,\n",
      "               \"payment\": [\n",
      "                  \"creditcard\",\n",
      "                  \"key\"\n",
      "               ],\n",
      "               \"payment-terminal\": true,\n",
      "               \"renting\": 1,\n",
      "               \"returning\": 1,\n",
      "               \"slots\": 11,\n",
      "               \"uid\": \"693\"\n",
      "            },\n",
      "            \"free_bikes\": 5,\n",
      "            \"id\": \"72bfd647b3d2b650546f42319729757d\",\n",
      "            \"latitude\": 45.617499783128075,\n",
      "            \"longitude\": -73.60601127147675,\n",
      "            \"name\": \"C\\u00e9gep Marie-Victorin\",\n",
      "            \"timestamp\": \"2023-09-24T05:56:23.293000Z\"\n",
      "         },\n",
      "         {\n",
      "            \"empty_slots\": 12,\n",
      "            \"extra\": {\n",
      "               \"ebikes\": 0,\n",
      "               \"has_ebikes\": true,\n",
      "               \"last_updated\": 1695534768,\n",
      "               \"payment\": [\n",
      "                  \"creditcard\",\n",
      "                  \"key\"\n",
      "               ],\n",
      "               \"payment-terminal\": true,\n",
      "               \"renting\": 1,\n",
      "               \"returning\": 1,\n",
      "               \"slots\": 15,\n",
      "               \"uid\": \"740\"\n",
      "            },\n",
      "            \"free_bikes\": 1,\n",
      "            \"id\": \"36c6491aa1b52e5ef7005f984738de27\",\n",
      "            \"latitude\": 45.516926210319546,\n",
      "            \"longitude\": -73.56425732374191,\n",
      "            \"name\": \"Gare d'autocars de Montr\\u00e9al (Berri / Ontario)\",\n",
      "            \"timestamp\": \"2023-09-24T05:56:22.597000Z\"\n",
      "         },\n",
      "  \n"
     ]
    }
   ],
   "source": [
    "# We can convert data into JSON string format with indentation to view its structure\n",
    "city_bike_view_data = json.dumps(response_MTL.json(), indent=3)\n",
    "\n",
    "# Print the first 2000 characters of the JSON string\n",
    "print(city_bike_view_data[:2000])"
   ]
  },
  {
   "cell_type": "markdown",
   "metadata": {},
   "source": []
  },
  {
   "cell_type": "markdown",
   "metadata": {},
   "source": [
    "### Parse through response to get the details for the bike stations in that city (latitude, longitude, number of bikes)"
   ]
  },
  {
   "cell_type": "code",
   "execution_count": 5,
   "metadata": {
    "tags": []
   },
   "outputs": [
    {
     "data": {
      "text/plain": [
       "{'empty_slots': 6,\n",
       " 'extra': {'ebikes': 0,\n",
       "  'has_ebikes': True,\n",
       "  'last_updated': 1695527911,\n",
       "  'payment': ['creditcard', 'key'],\n",
       "  'payment-terminal': True,\n",
       "  'renting': 1,\n",
       "  'returning': 1,\n",
       "  'slots': 11,\n",
       "  'uid': '693'},\n",
       " 'free_bikes': 5,\n",
       " 'id': '72bfd647b3d2b650546f42319729757d',\n",
       " 'latitude': 45.617499783128075,\n",
       " 'longitude': -73.60601127147675,\n",
       " 'name': 'Cégep Marie-Victorin',\n",
       " 'timestamp': '2023-09-24T05:56:23.293000Z'}"
      ]
     },
     "execution_count": 5,
     "metadata": {},
     "output_type": "execute_result"
    }
   ],
   "source": [
    "# In this case, we will work directly with the JSON response as it is easier to parse using keys and indices\n",
    "city_bike_data = response_MTL.json()\n",
    "\n",
    "# For example, we can use the keys and indices to access details about the first station\n",
    "city_bike_data['network']['stations'][0]"
   ]
  },
  {
   "cell_type": "code",
   "execution_count": 6,
   "metadata": {
    "tags": []
   },
   "outputs": [],
   "source": [
    "stations_data = city_bike_data['network']['stations']\n",
    "stations_details = []\n",
    "\n",
    "for station in stations_data:\n",
    "   \n",
    "    station_details = {\n",
    "        'station_name': station['name'],\n",
    "        'city_bike_latitude': station['latitude'],\n",
    "        'city_bike_longitude': station['longitude'],\n",
    "        'free_bikes': station['free_bikes'],\n",
    "        'empty_slots': station['empty_slots'],\n",
    "        # From the previous code block, we see \"has_ebikes = True\", but this may not be the case for all stations\n",
    "        # Use 'get()' method to check if the station has an 'ebike', if not, return 0 (to prevent runtime errors)\n",
    "        'ebikes': station['extra'].get('ebikes', 0) \n",
    "    }\n",
    "    \n",
    "    stations_details.append(station_details)"
   ]
  },
  {
   "cell_type": "markdown",
   "metadata": {},
   "source": []
  },
  {
   "cell_type": "markdown",
   "metadata": {},
   "source": [
    "### Put parsed results into a dataframe"
   ]
  },
  {
   "cell_type": "code",
   "execution_count": 7,
   "metadata": {
    "tags": []
   },
   "outputs": [
    {
     "data": {
      "text/html": [
       "<div>\n",
       "<style scoped>\n",
       "    .dataframe tbody tr th:only-of-type {\n",
       "        vertical-align: middle;\n",
       "    }\n",
       "\n",
       "    .dataframe tbody tr th {\n",
       "        vertical-align: top;\n",
       "    }\n",
       "\n",
       "    .dataframe thead th {\n",
       "        text-align: right;\n",
       "    }\n",
       "</style>\n",
       "<table border=\"1\" class=\"dataframe\">\n",
       "  <thead>\n",
       "    <tr style=\"text-align: right;\">\n",
       "      <th></th>\n",
       "      <th>station_name</th>\n",
       "      <th>city_bike_latitude</th>\n",
       "      <th>city_bike_longitude</th>\n",
       "      <th>free_bikes</th>\n",
       "      <th>empty_slots</th>\n",
       "      <th>ebikes</th>\n",
       "    </tr>\n",
       "  </thead>\n",
       "  <tbody>\n",
       "    <tr>\n",
       "      <th>0</th>\n",
       "      <td>Cégep Marie-Victorin</td>\n",
       "      <td>45.617500</td>\n",
       "      <td>-73.606011</td>\n",
       "      <td>5</td>\n",
       "      <td>6</td>\n",
       "      <td>0</td>\n",
       "    </tr>\n",
       "    <tr>\n",
       "      <th>1</th>\n",
       "      <td>Gare d'autocars de Montréal (Berri / Ontario)</td>\n",
       "      <td>45.516926</td>\n",
       "      <td>-73.564257</td>\n",
       "      <td>1</td>\n",
       "      <td>12</td>\n",
       "      <td>0</td>\n",
       "    </tr>\n",
       "    <tr>\n",
       "      <th>2</th>\n",
       "      <td>Ateliers municipaux de St-Laurent (Cavendish /...</td>\n",
       "      <td>45.506176</td>\n",
       "      <td>-73.711186</td>\n",
       "      <td>6</td>\n",
       "      <td>12</td>\n",
       "      <td>3</td>\n",
       "    </tr>\n",
       "    <tr>\n",
       "      <th>3</th>\n",
       "      <td>Place Rodolphe-Rousseau (Gohier / Édouard-Laurin)</td>\n",
       "      <td>45.512994</td>\n",
       "      <td>-73.682498</td>\n",
       "      <td>14</td>\n",
       "      <td>10</td>\n",
       "      <td>13</td>\n",
       "    </tr>\n",
       "    <tr>\n",
       "      <th>4</th>\n",
       "      <td>Centre des loisirs (Tassé / Grenet)</td>\n",
       "      <td>45.514734</td>\n",
       "      <td>-73.691449</td>\n",
       "      <td>6</td>\n",
       "      <td>8</td>\n",
       "      <td>3</td>\n",
       "    </tr>\n",
       "    <tr>\n",
       "      <th>...</th>\n",
       "      <td>...</td>\n",
       "      <td>...</td>\n",
       "      <td>...</td>\n",
       "      <td>...</td>\n",
       "      <td>...</td>\n",
       "      <td>...</td>\n",
       "    </tr>\n",
       "    <tr>\n",
       "      <th>793</th>\n",
       "      <td>Queen / Wellington</td>\n",
       "      <td>45.497605</td>\n",
       "      <td>-73.555350</td>\n",
       "      <td>1</td>\n",
       "      <td>42</td>\n",
       "      <td>0</td>\n",
       "    </tr>\n",
       "    <tr>\n",
       "      <th>794</th>\n",
       "      <td>Cathcart / McGill College</td>\n",
       "      <td>45.501188</td>\n",
       "      <td>-73.570455</td>\n",
       "      <td>1</td>\n",
       "      <td>26</td>\n",
       "      <td>0</td>\n",
       "    </tr>\n",
       "    <tr>\n",
       "      <th>795</th>\n",
       "      <td>de la Montagne / Notre-Dame</td>\n",
       "      <td>45.492913</td>\n",
       "      <td>-73.564688</td>\n",
       "      <td>17</td>\n",
       "      <td>5</td>\n",
       "      <td>0</td>\n",
       "    </tr>\n",
       "    <tr>\n",
       "      <th>796</th>\n",
       "      <td>Parc du Pélican (1ere Ave / Masson)</td>\n",
       "      <td>45.545188</td>\n",
       "      <td>-73.576443</td>\n",
       "      <td>20</td>\n",
       "      <td>16</td>\n",
       "      <td>8</td>\n",
       "    </tr>\n",
       "    <tr>\n",
       "      <th>797</th>\n",
       "      <td>Parc Jean-Drapeau (Chemin Macdonald)</td>\n",
       "      <td>45.513212</td>\n",
       "      <td>-73.533117</td>\n",
       "      <td>2</td>\n",
       "      <td>23</td>\n",
       "      <td>1</td>\n",
       "    </tr>\n",
       "  </tbody>\n",
       "</table>\n",
       "<p>798 rows × 6 columns</p>\n",
       "</div>"
      ],
      "text/plain": [
       "                                          station_name  city_bike_latitude  \\\n",
       "0                                 Cégep Marie-Victorin           45.617500   \n",
       "1        Gare d'autocars de Montréal (Berri / Ontario)           45.516926   \n",
       "2    Ateliers municipaux de St-Laurent (Cavendish /...           45.506176   \n",
       "3    Place Rodolphe-Rousseau (Gohier / Édouard-Laurin)           45.512994   \n",
       "4                  Centre des loisirs (Tassé / Grenet)           45.514734   \n",
       "..                                                 ...                 ...   \n",
       "793                                 Queen / Wellington           45.497605   \n",
       "794                          Cathcart / McGill College           45.501188   \n",
       "795                        de la Montagne / Notre-Dame           45.492913   \n",
       "796                Parc du Pélican (1ere Ave / Masson)           45.545188   \n",
       "797               Parc Jean-Drapeau (Chemin Macdonald)           45.513212   \n",
       "\n",
       "     city_bike_longitude  free_bikes  empty_slots  ebikes  \n",
       "0             -73.606011           5            6       0  \n",
       "1             -73.564257           1           12       0  \n",
       "2             -73.711186           6           12       3  \n",
       "3             -73.682498          14           10      13  \n",
       "4             -73.691449           6            8       3  \n",
       "..                   ...         ...          ...     ...  \n",
       "793           -73.555350           1           42       0  \n",
       "794           -73.570455           1           26       0  \n",
       "795           -73.564688          17            5       0  \n",
       "796           -73.576443          20           16       8  \n",
       "797           -73.533117           2           23       1  \n",
       "\n",
       "[798 rows x 6 columns]"
      ]
     },
     "execution_count": 7,
     "metadata": {},
     "output_type": "execute_result"
    }
   ],
   "source": [
    "all_stations_df = pd.DataFrame(stations_details)\n",
    "all_stations_df"
   ]
  },
  {
   "cell_type": "code",
   "execution_count": 8,
   "metadata": {
    "tags": []
   },
   "outputs": [
    {
     "name": "stdout",
     "output_type": "stream",
     "text": [
      "False    798\n",
      "Name: count, dtype: int64\n",
      "\n",
      "station_name           0\n",
      "city_bike_latitude     0\n",
      "city_bike_longitude    0\n",
      "free_bikes             0\n",
      "empty_slots            0\n",
      "ebikes                 0\n",
      "dtype: int64\n",
      "\n",
      "station_name            object\n",
      "city_bike_latitude     float64\n",
      "city_bike_longitude    float64\n",
      "free_bikes               int64\n",
      "empty_slots              int64\n",
      "ebikes                   int64\n",
      "dtype: object\n"
     ]
    }
   ],
   "source": [
    "# Check for duplicated rows using 'duplicated()' method which returns boolean Series denoting duplicate rows\n",
    "print(all_stations_df.duplicated().value_counts())\n",
    "\n",
    "# Check for missing values in each column\n",
    "print(f\"\\n{all_stations_df.isna().sum()}\")\n",
    "\n",
    "# Examine the data types of each column to see if they make sense\n",
    "print(f\"\\n{all_stations_df.dtypes}\")"
   ]
  },
  {
   "cell_type": "code",
   "execution_count": 9,
   "metadata": {
    "tags": []
   },
   "outputs": [],
   "source": [
    "# Save DataFrame to a CSV file without row index value\n",
    "all_stations_df.to_csv(\"../data/montreal_bike_stations.csv\", index = False)"
   ]
  },
  {
   "cell_type": "markdown",
   "metadata": {},
   "source": []
  }
 ],
 "metadata": {
  "kernelspec": {
   "display_name": "lhl_env",
   "language": "python",
   "name": "lhl_env"
  },
  "language_info": {
   "codemirror_mode": {
    "name": "ipython",
    "version": 3
   },
   "file_extension": ".py",
   "mimetype": "text/x-python",
   "name": "python",
   "nbconvert_exporter": "python",
   "pygments_lexer": "ipython3",
   "version": "3.9.7"
  }
 },
 "nbformat": 4,
 "nbformat_minor": 4
}
