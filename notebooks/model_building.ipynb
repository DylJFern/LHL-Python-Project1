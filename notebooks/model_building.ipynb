{
 "cells": [
  {
   "cell_type": "code",
   "execution_count": 1,
   "metadata": {
    "tags": []
   },
   "outputs": [],
   "source": [
    "import pandas as pd\n",
    "import statsmodels.api as sm"
   ]
  },
  {
   "cell_type": "markdown",
   "metadata": {},
   "source": [
    "### Build a regression model"
   ]
  },
  {
   "cell_type": "code",
   "execution_count": 2,
   "metadata": {
    "tags": []
   },
   "outputs": [
    {
     "data": {
      "text/html": [
       "<div>\n",
       "<style scoped>\n",
       "    .dataframe tbody tr th:only-of-type {\n",
       "        vertical-align: middle;\n",
       "    }\n",
       "\n",
       "    .dataframe tbody tr th {\n",
       "        vertical-align: top;\n",
       "    }\n",
       "\n",
       "    .dataframe thead th {\n",
       "        text-align: right;\n",
       "    }\n",
       "</style>\n",
       "<table border=\"1\" class=\"dataframe\">\n",
       "  <thead>\n",
       "    <tr style=\"text-align: right;\">\n",
       "      <th></th>\n",
       "      <th>station_name</th>\n",
       "      <th>fsq_avg_rating</th>\n",
       "      <th>fsq_avg_distance (m)</th>\n",
       "      <th>yelp_avg_rating</th>\n",
       "      <th>yelp_avg_distance (m)</th>\n",
       "      <th>total_bikes</th>\n",
       "    </tr>\n",
       "  </thead>\n",
       "  <tbody>\n",
       "    <tr>\n",
       "      <th>0</th>\n",
       "      <td>de la Commune / King</td>\n",
       "      <td>8.888889</td>\n",
       "      <td>467.222222</td>\n",
       "      <td>8.611111</td>\n",
       "      <td>519.888219</td>\n",
       "      <td>11178</td>\n",
       "    </tr>\n",
       "    <tr>\n",
       "      <th>1</th>\n",
       "      <td>de la Commune / Place Jacques-Cartier</td>\n",
       "      <td>8.833333</td>\n",
       "      <td>135.333333</td>\n",
       "      <td>8.058824</td>\n",
       "      <td>232.070538</td>\n",
       "      <td>8058</td>\n",
       "    </tr>\n",
       "    <tr>\n",
       "      <th>2</th>\n",
       "      <td>Berri / Cherrier</td>\n",
       "      <td>8.862500</td>\n",
       "      <td>470.250000</td>\n",
       "      <td>8.500000</td>\n",
       "      <td>510.764503</td>\n",
       "      <td>5760</td>\n",
       "    </tr>\n",
       "    <tr>\n",
       "      <th>3</th>\n",
       "      <td>St-Dominique / St-Zotique</td>\n",
       "      <td>8.444444</td>\n",
       "      <td>147.444444</td>\n",
       "      <td>8.450000</td>\n",
       "      <td>280.756109</td>\n",
       "      <td>5760</td>\n",
       "    </tr>\n",
       "    <tr>\n",
       "      <th>4</th>\n",
       "      <td>Duluth / de l'Esplanade</td>\n",
       "      <td>8.912500</td>\n",
       "      <td>248.875000</td>\n",
       "      <td>8.250000</td>\n",
       "      <td>451.355694</td>\n",
       "      <td>5600</td>\n",
       "    </tr>\n",
       "  </tbody>\n",
       "</table>\n",
       "</div>"
      ],
      "text/plain": [
       "                            station_name  fsq_avg_rating  \\\n",
       "0                   de la Commune / King        8.888889   \n",
       "1  de la Commune / Place Jacques-Cartier        8.833333   \n",
       "2                       Berri / Cherrier        8.862500   \n",
       "3              St-Dominique / St-Zotique        8.444444   \n",
       "4                Duluth / de l'Esplanade        8.912500   \n",
       "\n",
       "   fsq_avg_distance (m)  yelp_avg_rating  yelp_avg_distance (m)  total_bikes  \n",
       "0            467.222222         8.611111             519.888219        11178  \n",
       "1            135.333333         8.058824             232.070538         8058  \n",
       "2            470.250000         8.500000             510.764503         5760  \n",
       "3            147.444444         8.450000             280.756109         5760  \n",
       "4            248.875000         8.250000             451.355694         5600  "
      ]
     },
     "execution_count": 2,
     "metadata": {},
     "output_type": "execute_result"
    }
   ],
   "source": [
    "model_df = pd.read_csv('../data/statsmodel_df.csv')\n",
    "model_df.head()"
   ]
  },
  {
   "cell_type": "code",
   "execution_count": 3,
   "metadata": {
    "tags": []
   },
   "outputs": [
    {
     "data": {
      "text/html": [
       "<div>\n",
       "<style scoped>\n",
       "    .dataframe tbody tr th:only-of-type {\n",
       "        vertical-align: middle;\n",
       "    }\n",
       "\n",
       "    .dataframe tbody tr th {\n",
       "        vertical-align: top;\n",
       "    }\n",
       "\n",
       "    .dataframe thead th {\n",
       "        text-align: right;\n",
       "    }\n",
       "</style>\n",
       "<table border=\"1\" class=\"dataframe\">\n",
       "  <thead>\n",
       "    <tr style=\"text-align: right;\">\n",
       "      <th></th>\n",
       "      <th>const</th>\n",
       "      <th>fsq_avg_rating</th>\n",
       "      <th>fsq_avg_distance (m)</th>\n",
       "      <th>yelp_avg_rating</th>\n",
       "      <th>yelp_avg_distance (m)</th>\n",
       "    </tr>\n",
       "  </thead>\n",
       "  <tbody>\n",
       "    <tr>\n",
       "      <th>0</th>\n",
       "      <td>1.0</td>\n",
       "      <td>8.888889</td>\n",
       "      <td>467.222222</td>\n",
       "      <td>8.611111</td>\n",
       "      <td>519.888219</td>\n",
       "    </tr>\n",
       "    <tr>\n",
       "      <th>1</th>\n",
       "      <td>1.0</td>\n",
       "      <td>8.833333</td>\n",
       "      <td>135.333333</td>\n",
       "      <td>8.058824</td>\n",
       "      <td>232.070538</td>\n",
       "    </tr>\n",
       "    <tr>\n",
       "      <th>2</th>\n",
       "      <td>1.0</td>\n",
       "      <td>8.862500</td>\n",
       "      <td>470.250000</td>\n",
       "      <td>8.500000</td>\n",
       "      <td>510.764503</td>\n",
       "    </tr>\n",
       "    <tr>\n",
       "      <th>3</th>\n",
       "      <td>1.0</td>\n",
       "      <td>8.444444</td>\n",
       "      <td>147.444444</td>\n",
       "      <td>8.450000</td>\n",
       "      <td>280.756109</td>\n",
       "    </tr>\n",
       "    <tr>\n",
       "      <th>4</th>\n",
       "      <td>1.0</td>\n",
       "      <td>8.912500</td>\n",
       "      <td>248.875000</td>\n",
       "      <td>8.250000</td>\n",
       "      <td>451.355694</td>\n",
       "    </tr>\n",
       "  </tbody>\n",
       "</table>\n",
       "</div>"
      ],
      "text/plain": [
       "   const  fsq_avg_rating  fsq_avg_distance (m)  yelp_avg_rating  \\\n",
       "0    1.0        8.888889            467.222222         8.611111   \n",
       "1    1.0        8.833333            135.333333         8.058824   \n",
       "2    1.0        8.862500            470.250000         8.500000   \n",
       "3    1.0        8.444444            147.444444         8.450000   \n",
       "4    1.0        8.912500            248.875000         8.250000   \n",
       "\n",
       "   yelp_avg_distance (m)  \n",
       "0             519.888219  \n",
       "1             232.070538  \n",
       "2             510.764503  \n",
       "3             280.756109  \n",
       "4             451.355694  "
      ]
     },
     "execution_count": 3,
     "metadata": {},
     "output_type": "execute_result"
    }
   ],
   "source": [
    "# The dependent variable is \"total_bikes\"\n",
    "y_statsmodel =  model_df['total_bikes']\n",
    "\n",
    "# The indepndent variables are \"fsq_avg_rating\", \"fsq_avg_distance (m)\", \"yelp_avg_rating\", \"yelp_avg_distance (m)\"\n",
    "# The data quality check (null values, missing values, inconsistent types, and so on) was done previously\n",
    "x_statsmodel = model_df[['fsq_avg_rating', 'fsq_avg_distance (m)', 'yelp_avg_rating', 'yelp_avg_distance (m)']]\n",
    "\n",
    "# Add a constant (intercept) to the list of indepndent variables\n",
    "x_statsmodel = sm.add_constant(x_statsmodel)\n",
    "x_statsmodel.head()"
   ]
  },
  {
   "cell_type": "markdown",
   "metadata": {},
   "source": []
  },
  {
   "cell_type": "markdown",
   "metadata": {
    "tags": []
   },
   "source": [
    "### Provide model output and interpretation of results "
   ]
  },
  {
   "cell_type": "code",
   "execution_count": 4,
   "metadata": {
    "tags": []
   },
   "outputs": [
    {
     "name": "stdout",
     "output_type": "stream",
     "text": [
      "                            OLS Regression Results                            \n",
      "==============================================================================\n",
      "Dep. Variable:            total_bikes   R-squared:                       0.506\n",
      "Model:                            OLS   Adj. R-squared:                  0.500\n",
      "Method:                 Least Squares   F-statistic:                     84.85\n",
      "Date:                Mon, 25 Sep 2023   Prob (F-statistic):           1.59e-49\n",
      "Time:                        05:16:32   Log-Likelihood:                -2816.4\n",
      "No. Observations:                 336   AIC:                             5643.\n",
      "Df Residuals:                     331   BIC:                             5662.\n",
      "Df Model:                           4                                         \n",
      "Covariance Type:            nonrobust                                         \n",
      "=========================================================================================\n",
      "                            coef    std err          t      P>|t|      [0.025      0.975]\n",
      "-----------------------------------------------------------------------------------------\n",
      "const                 -5920.7497    772.044     -7.669      0.000   -7439.482   -4402.018\n",
      "fsq_avg_rating          886.7350    111.080      7.983      0.000     668.222    1105.248\n",
      "fsq_avg_distance (m)     -1.0372      0.354     -2.927      0.004      -1.734      -0.340\n",
      "yelp_avg_rating         259.3661    113.065      2.294      0.022      36.950     481.782\n",
      "yelp_avg_distance (m)    -0.5340      0.208     -2.564      0.011      -0.944      -0.124\n",
      "==============================================================================\n",
      "Omnibus:                      141.499   Durbin-Watson:                   0.866\n",
      "Prob(Omnibus):                  0.000   Jarque-Bera (JB):             1162.132\n",
      "Skew:                           1.530   Prob(JB):                    4.43e-253\n",
      "Kurtosis:                      11.581   Cond. No.                     1.23e+04\n",
      "==============================================================================\n",
      "\n",
      "Notes:\n",
      "[1] Standard Errors assume that the covariance matrix of the errors is correctly specified.\n",
      "[2] The condition number is large, 1.23e+04. This might indicate that there are\n",
      "strong multicollinearity or other numerical problems.\n"
     ]
    }
   ],
   "source": [
    "# Create and fit the model using statsmodels linear regression model (OLS)\n",
    "model = sm.OLS(y_statsmodel, x_statsmodel)\n",
    "results = model.fit()\n",
    "\n",
    "print(results.summary())"
   ]
  },
  {
   "cell_type": "markdown",
   "metadata": {},
   "source": []
  },
  {
   "cell_type": "markdown",
   "metadata": {},
   "source": [
    "The dependent variable \"total_bikes\" (also known as the target) is what we are trying to predict or explain using the independent variables (predictors).\n",
    "\n",
    "##### R-squared\n",
    "R-squared (also known as the coefficient of determination) represents the proportion of variance in the dependent variable \"total_bikes\" that is predictable from the inpendent variables \"fsq_avg_rating\", \"fsq_avg_distance\", \"yelp_avg_rating\", \"yelp_avg_distance\". The higher the R-squared value (range: from 0 to 1), the better our model fits the data. In other words, it is a measure of the goodness of fit of the model. For this specific model output, approximately 50.6% of the variability in the total number of bikes at a station can be explained.\n",
    "\n",
    "##### Adjusted R-squared\n",
    "Adjusted R-squared is similar to R-squared but accounts for the number of predictor variables in the model. Unlike R-squared which tends to increase with the addition of more predictors, even if they don't significantly contribute to explaining the variation in the dependent variable, adjusted R-squared penalizes the inclusion of unnecessary variables. For this specific model, the adjusted R-squared is 50% which means it can explain about half of the variability, considering the trade-off between model complexity (number of predictor variables) and goodness of fit.\n",
    "\n",
    "##### F-statistic and Prob (F-statistic)\n",
    "The F-statistic tests the overall significance of the regression model, it assess whether at least one independent variable significantly impacts the dependent variable. The higher the F-statistic the better the indication of the overall fit of the model. The Prob (F-statistic) is the probability associated with the F-statistic, a low p-value (< 0.05) indicates that the overall model is statistically significant.\n",
    "\n",
    "##### coef\n",
    "For coef's, the const (intercept) represents the value of \"total_bikes\" when all independent variables are 0. For each 1-meter increase in \"fsq_avg_rating\" and \"yelp_avg_rating\" we expect an approximate increase of 886.7350 and 259.3661 in the total number of bikes, respectively. This means higher ratings are associated with more bikes. For each 1-meter increase in \"fsq_avg_distance (m)\" and \"yelp_avg_distance (m)\" we expect an approximate decrease of 1.0372 and 0.5340 in the total number of bikes, respectively. This means that greater distances (from station and place) are associated with fewer bikes.\n",
    "\n",
    "##### t and P>|t|\n",
    "Statistical significance can be provided by t-statistics and associated p-values (P>|t|). Small p-values (less than 0.05 for our analysis) suggest that the predictor is statistically significant, in such a case we reject the null hypothesis. In the context of this problem, the null hypothesis (H0) states that there is no relationship or influence of that predictor on the total number of bikes. However, for all columns we can see that their p-values are less than 0.05, this means that the independent variables are statistically significant in predicting the total number of bikes (the dependent variable).\n",
    "\n",
    "##### Skew and Kurtosis\n",
    "Skew is a measure of symmetry of the distribution, in our case the skewness of 1.530 suggests that the distribution is moderately skewed to the right. Kurtosis is a measure of the sharpness of the distribution, a high positive kurtosis indicates heavy tails and a peaky distribution, in this context, the distribution contains more outliers or extreme values compared to a normal distribution."
   ]
  },
  {
   "cell_type": "markdown",
   "metadata": {},
   "source": []
  },
  {
   "cell_type": "markdown",
   "metadata": {},
   "source": [
    "# Stretch"
   ]
  },
  {
   "cell_type": "markdown",
   "metadata": {},
   "source": [
    "### How can you turn the regression model into a classification model?"
   ]
  },
  {
   "cell_type": "markdown",
   "metadata": {},
   "source": [
    "To turn the regression model into a classification we need to determine how to categorize the continous output from the regression into distinct classes.\n",
    "\n",
    "1. Define Classes for Classification\n",
    "    - Decide how to categorize the continous output, this could be based on a certain threshold. For instance, we can categorize blood alcohol content into categories: \"low\", \"medium\", and \"high\". \n",
    "    - Determine if it is a logistic regression model for binary classification or multinomial regression for multinomial classification.\n",
    "2. Discretize the Output and Assign Labels\n",
    "    - Use defined thresholds to 'bin' the continous output and assign the 'labels' a value. For example, \"low\": 0, \"medium\": 1, \"high\": 2.\n",
    "3. Prepare the data and Conduction Feature Selection\n",
    "    -  This can include determining and selecting the most relevant features for predicting the assigned class labels.\n",
    "4. Choose a Classification Algorithm and Train the Model\n",
    "    - Select the suitable classification algorithm for the data and problem at hand, then accordingly train the chosen classification model using the selected features and assigned labels.\n",
    "5. Evaluate the Classification Model\n",
    "    - Evaluate the performance of the model using appropriate metrics to ensure accurate results.\n",
    "6. Adjustments and Optimization\n",
    "    - Fine-tune the model, adjust parameters or different algorithms to optimize performance.\n",
    "7. Make predictions\n",
    "    - Use the model to make predictions on new data through processes such as interpolation."
   ]
  },
  {
   "cell_type": "markdown",
   "metadata": {},
   "source": []
  },
  {
   "cell_type": "code",
   "execution_count": 5,
   "metadata": {
    "tags": []
   },
   "outputs": [
    {
     "data": {
      "text/plain": [
       "0      1\n",
       "1      1\n",
       "2      1\n",
       "3      1\n",
       "4      1\n",
       "      ..\n",
       "331    0\n",
       "332    0\n",
       "333    0\n",
       "334    0\n",
       "335    0\n",
       "Name: total_bikes, Length: 336, dtype: int32"
      ]
     },
     "execution_count": 5,
     "metadata": {},
     "output_type": "execute_result"
    }
   ],
   "source": [
    "# In the context of our regression model, we can turn this model into a logistic regression model for binary classification\n",
    "# We can create a threshold for our dependent variable\n",
    "# Convert total_bikes to binary classes (1 for total_bikes > 5000 and 0 for total_bikes < 5000)\n",
    "threshold = 5000\n",
    "# \"model_df['total_bikes'] > threshold\" returns True or False and \"astype(int)\" converts result to 1 or 0\n",
    "y_statsmodel_labels =  (model_df['total_bikes'] > threshold).astype(int)\n",
    "y_statsmodel_labels"
   ]
  },
  {
   "cell_type": "code",
   "execution_count": 6,
   "metadata": {
    "tags": []
   },
   "outputs": [
    {
     "name": "stdout",
     "output_type": "stream",
     "text": [
      "Optimization terminated successfully.\n",
      "         Current function value: 0.101060\n",
      "         Iterations 12\n",
      "                           Logit Regression Results                           \n",
      "==============================================================================\n",
      "Dep. Variable:            total_bikes   No. Observations:                  336\n",
      "Model:                          Logit   Df Residuals:                      331\n",
      "Method:                           MLE   Df Model:                            4\n",
      "Date:                Mon, 25 Sep 2023   Pseudo R-squ.:                  0.2453\n",
      "Time:                        05:25:52   Log-Likelihood:                -33.956\n",
      "converged:                       True   LL-Null:                       -44.995\n",
      "Covariance Type:            nonrobust   LLR p-value:                 0.0001934\n",
      "=========================================================================================\n",
      "                            coef    std err          z      P>|z|      [0.025      0.975]\n",
      "-----------------------------------------------------------------------------------------\n",
      "const                   -36.0270     20.835     -1.729      0.084     -76.862       4.808\n",
      "fsq_avg_rating            5.5372      2.379      2.328      0.020       0.875      10.199\n",
      "fsq_avg_distance (m)     -0.0027      0.004     -0.618      0.537      -0.011       0.006\n",
      "yelp_avg_rating          -1.6530      2.013     -0.821      0.412      -5.599       2.293\n",
      "yelp_avg_distance (m)    -0.0005      0.004     -0.135      0.892      -0.008       0.007\n",
      "=========================================================================================\n",
      "\n",
      "Possibly complete quasi-separation: A fraction 0.32 of observations can be\n",
      "perfectly predicted. This might indicate that there is complete\n",
      "quasi-separation. In this case some parameters will not be identified.\n"
     ]
    }
   ],
   "source": [
    "model = sm.Logit(y_statsmodel_labels, x_statsmodel)\n",
    "results = model.fit()\n",
    "\n",
    "# Print the summary of the logistic regression model\n",
    "print(results.summary())"
   ]
  },
  {
   "cell_type": "markdown",
   "metadata": {
    "tags": []
   },
   "source": []
  },
  {
   "cell_type": "markdown",
   "metadata": {},
   "source": [
    "Log of odds (also known as logit) is a way of representing the odds (the likelihood of an event happening) on a logarithmic scale. Odds are the ratio of the probability of an event occurring to the probability of it not occurring. In this context, we are trying to find the probability that a bike count exceeds a certain threshold. The logistic regression model predicts the log odds of this event happening given the predictor variables.\n",
    "\n",
    "\"fsq_avg_rating\" has a coef of 5.5372, for each unit increase, the log-odds of having a total number of bikes greater than 5000 increases by approximately 5.5372. In the statistical significance (p-values) for this output, it can be seen that \"fsq_avg_distance (m)\" and \"yelp_avg_distance (m)\" are not statistically significant and therefore the predictors might not be meaningful in predicting whether the total number of bikes exceeds 5000."
   ]
  },
  {
   "cell_type": "markdown",
   "metadata": {},
   "source": []
  }
 ],
 "metadata": {
  "kernelspec": {
   "display_name": "lhl_env",
   "language": "python",
   "name": "lhl_env"
  },
  "language_info": {
   "codemirror_mode": {
    "name": "ipython",
    "version": 3
   },
   "file_extension": ".py",
   "mimetype": "text/x-python",
   "name": "python",
   "nbconvert_exporter": "python",
   "pygments_lexer": "ipython3",
   "version": "3.9.7"
  }
 },
 "nbformat": 4,
 "nbformat_minor": 4
}
